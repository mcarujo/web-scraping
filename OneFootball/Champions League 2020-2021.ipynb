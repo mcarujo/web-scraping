{
 "cells": [
  {
   "cell_type": "code",
   "execution_count": 1,
   "metadata": {},
   "outputs": [
    {
     "data": {
      "application/javascript": [
       "\n",
       "            setTimeout(function() {\n",
       "                var nbb_cell_id = 1;\n",
       "                var nbb_unformatted_code = \"%load_ext nb_black\";\n",
       "                var nbb_formatted_code = \"%load_ext nb_black\";\n",
       "                var nbb_cells = Jupyter.notebook.get_cells();\n",
       "                for (var i = 0; i < nbb_cells.length; ++i) {\n",
       "                    if (nbb_cells[i].input_prompt_number == nbb_cell_id) {\n",
       "                        if (nbb_cells[i].get_text() == nbb_unformatted_code) {\n",
       "                             nbb_cells[i].set_text(nbb_formatted_code);\n",
       "                        }\n",
       "                        break;\n",
       "                    }\n",
       "                }\n",
       "            }, 500);\n",
       "            "
      ],
      "text/plain": [
       "<IPython.core.display.Javascript object>"
      ]
     },
     "metadata": {},
     "output_type": "display_data"
    }
   ],
   "source": [
    "%load_ext nb_black"
   ]
  },
  {
   "cell_type": "code",
   "execution_count": 5,
   "metadata": {},
   "outputs": [
    {
     "data": {
      "application/javascript": [
       "\n",
       "            setTimeout(function() {\n",
       "                var nbb_cell_id = 5;\n",
       "                var nbb_unformatted_code = \"import os\\nimport re\\nimport time\\n\\nimport pandas as pd\\nimport requests\\nimport selenium\\nfrom bs4 import BeautifulSoup\\nfrom selenium import webdriver\\nfrom tqdm.notebook import tqdm\";\n",
       "                var nbb_formatted_code = \"import os\\nimport re\\nimport time\\n\\nimport pandas as pd\\nimport requests\\nimport selenium\\nfrom bs4 import BeautifulSoup\\nfrom selenium import webdriver\\nfrom tqdm.notebook import tqdm\";\n",
       "                var nbb_cells = Jupyter.notebook.get_cells();\n",
       "                for (var i = 0; i < nbb_cells.length; ++i) {\n",
       "                    if (nbb_cells[i].input_prompt_number == nbb_cell_id) {\n",
       "                        if (nbb_cells[i].get_text() == nbb_unformatted_code) {\n",
       "                             nbb_cells[i].set_text(nbb_formatted_code);\n",
       "                        }\n",
       "                        break;\n",
       "                    }\n",
       "                }\n",
       "            }, 500);\n",
       "            "
      ],
      "text/plain": [
       "<IPython.core.display.Javascript object>"
      ]
     },
     "metadata": {},
     "output_type": "display_data"
    }
   ],
   "source": [
    "import os\n",
    "import re\n",
    "import time\n",
    "\n",
    "import pandas as pd\n",
    "import requests\n",
    "import selenium\n",
    "from bs4 import BeautifulSoup\n",
    "from selenium import webdriver\n",
    "from tqdm.notebook import tqdm"
   ]
  },
  {
   "cell_type": "code",
   "execution_count": 8,
   "metadata": {},
   "outputs": [
    {
     "data": {
      "application/javascript": [
       "\n",
       "            setTimeout(function() {\n",
       "                var nbb_cell_id = 8;\n",
       "                var nbb_unformatted_code = \"def browser(url):\\n    option = webdriver.ChromeOptions()\\n    option.add_argument('headless')\\n    driver = webdriver.Chrome(executable_path='/Users/admin/Git/web-scraping/OneFootbal/chromedriver',options=option)\\n    driver.get(url)\\n    return driver\\n\\n\\ndef get_html_full(url):\\n    driver = browser(url)\\n    el = driver.find_element_by_xpath(\\n        \\\"/html/body/of-root/main/of-competition-results-stream/section/of-entity-page-root/div/of-xpa-switch-entity-deprecated[7]/of-simple-match-cards-list-deprecated/div/button\\\"\\n    )\\n    el.click()\\n    time.sleep(5)\\n    page = driver.page_source\\n    driver.close()\\n    return BeautifulSoup(page)\\n\\n\\ndef get_html_full_match(url):\\n    driver = browser(url)\\n    el = driver.find_element_by_xpath(\\n        \\\"/html/body/of-root/main/of-competition-results-stream/section/of-entity-page-root/div/of-xpa-switch-entity-deprecated[7]/of-simple-match-cards-list-deprecated/div/button\\\"\\n    )\\n    el.click()\\n    time.sleep(5)\\n    page = driver.page_source\\n    driver.close()\\n    return BeautifulSoup(page)\\n\\n\\ndef get_html_from_a_match(url):\\n    driver = browser(url)\\n    el = driver.find_element_by_xpath(\\n        \\\"/html/body/of-root/main/of-match-stream-v2/section/of-xpa-layout-match/section[2]/of-xpa-switch-match/of-match-events/div/button\\\"\\n    )\\n    el.click()\\n    time.sleep(2)\\n    page = driver.page_source\\n    el = driver.find_element_by_xpath(\\n        \\\"/html/body/of-root/main/of-match-stream-v2/section/of-xpa-layout-match/section[3]/div[1]/div/of-xpa-switch-match/of-match-lineup-v2/section/nav/ul/li[2]/button\\\"\\n    )\\n    el.click()\\n    time.sleep(2)\\n    second_lineup = driver.page_source\\n    driver.close()\\n    return BeautifulSoup(page), BeautifulSoup(second_lineup)\\n\\n\\n\\ndef format_field(string):\\n    string = str(string)\\n    string = string.lower()\\n    string = string.strip()\\n    string = string.replace(\\\"  \\\", \\\" \\\")\\n    string = string.replace(\\\" \\\", \\\"_\\\")\\n    return string\\n\\n\\ndef get_info_from_event(event):\\n    aux_event = {}\\n    aux_event[\\\"event_team\\\"] = event[\\\"class\\\"][-1][-4:]\\n    aux_event[\\\"event_time\\\"] = event.find(\\n        \\\"div\\\", class_=\\\"match-events__item-timeline\\\"\\n    ).text\\n\\n    if aux_event[\\\"event_time\\\"] == \\\" PK \\\":\\n        aux_event[\\\"event_time\\\"] = False\\n        aux_event[\\\"event_type\\\"] = \\\"PK\\\"\\n        aux_event[\\\"event_result\\\"] = event.find(\\\"img\\\", class_=\\\"of-image__img\\\")[\\\"alt\\\"]\\n        aux_event[\\\"event_player\\\"] = (\\n            event.find(\\\"div\\\", class_=\\\"match-events__text\\\").find(\\\"p\\\").text\\n        )\\n    else:\\n        try:\\n            aux_event[\\\"event_type\\\"] = event.find(class_=\\\"match-events__icon\\\")[\\n                \\\"aria-label\\\"\\n            ]\\n        except:\\n            aux_event[\\\"event_type\\\"] = event.find(\\\"img\\\", class_=\\\"of-image__img\\\")[\\\"alt\\\"]\\n        try:\\n            for i, text in enumerate(\\n                event.find(\\\"div\\\", class_=\\\"match-events__text\\\").find_all(\\\"p\\\")\\n            ):\\n                aux_event[\\\"action_player_\\\" + str(i + 1)] = text.text\\n        except:\\n            aux_event[\\\"action_player_1\\\"] = event.find(\\n                \\\"p\\\", class_=\\\"match-events__text\\\"\\n            ).text\\n\\n    return aux_event\\n\\n\\ndef get_info_from_match(page, second_lineup):\\n    aux_dict = {}\\n\\n    ## NAMES\\n    aux_dict[\\\"team_name_home\\\"] = page.find(\\n        \\\"span\\\", class_=\\\"match-score-team__name--home\\\"\\n    ).text\\n    aux_dict[\\\"team_name_away\\\"] = page.find(\\n        \\\"span\\\", class_=\\\"match-score-team__name--away\\\"\\n    ).text\\n\\n    ## GOAL\\n    scores = page.find(\\\"p\\\", class_=\\\"match-score-scores\\\").find_all(\\\"span\\\")\\n    aux_dict[\\\"team_home_score\\\"] = scores[0].text\\n    aux_dict[\\\"team_away_score\\\"] = scores[2].text\\n\\n    ## STATISTICS\\n    description = page.find_all(\\\"div\\\", class_=\\\"match-stats__stat-description\\\")\\n    for d in description:\\n        field = format_field(d.find_all(\\\"p\\\")[1].text)\\n        aux_dict[field + \\\"_home\\\"] = d.find_all(\\\"p\\\")[0].text\\n        aux_dict[field + \\\"_away\\\"] = d.find_all(\\\"p\\\")[2].text\\n        \\n    ## PREDICTION\\n    predictions = page.find('ul',class_='match-prediction__buttons').find_all('li')\\n    aux_dict['prediction_team_home_win'] = predictions[0].text\\n    aux_dict['prediction_draw'] = predictions[1].text\\n    aux_dict['prediction_team_away_win'] = predictions[2].text\\n\\n    print(len(predictions))\\n        \\n    ## LOCATION\\n    entries = page.find('ul',class_='match-info__entries').find_all('li')\\n    aux_dict[\\\"location\\\"] = entries[-1].find('span', class_='title-8-regular match-info__entry-subtitle').text\\n\\n    ## EVENTS\\n    events = page.find(\\\"ul\\\", class_=\\\"match-events__list\\\").find_all(\\n        \\\"li\\\", class_=\\\"match-events__item\\\"\\n    )\\n    aux_dict[\\\"events_list\\\"] = [get_info_from_event(event) for event in events]\\n\\n    aux_dict[\\\"lineup_home\\\"] = get_lineups(page)\\n    aux_dict[\\\"lineup_away\\\"] = get_lineups(second_lineup)\\n\\n    return aux_dict\\n\\n\\ndef get_lineups(page):\\n    lineup = []\\n    for player in page.find_all(\\\"div\\\", class_=\\\"match-lineup-v2__player\\\"):\\n        player_info = player.find('p',class_='match-lineup-v2__player-name').text.split('.')\\n        \\n        lineup.append(\\n            {\\n                 \\\"player_name\\\": player_info[1],\\n                \\\"player_number\\\": player_info[0],\\n            }\\n        )\\n    return lineup\\n\\n\\n\\ndef get_penaltis(match):\\n    regex_rule = r\\\"\\\\((\\\\d+)\\\\)\\\"\\n    aux = match.find_all(\\n        \\\"span\\\", class_=\\\"title-7-bold simple-match-card-team__score\\\"\\n    )\\n    aux = [\\n        re.search(regex_rule, i.text)[0].replace(\\\"(\\\", \\\"\\\").replace(\\\")\\\", \\\"\\\") for i in aux\\n    ]\\n    return aux\\n\\n\\ndef get_all_matches(html_full):\\n    aux_dict = []\\n    for match in html_full.find_all(\\\"a\\\", class_=\\\"match-card\\\", href=True):\\n        aux_dict_2 = {}\\n        aux_dict_2[\\\"link\\\"] = \\\"https://onefootball.com\\\" + match[\\\"href\\\"]\\n        aux_dict_2[\\\"stage\\\"] = match.find_previous(\\n            \\\"p\\\", class_=\\\"label simple-match-cards-list__title-deprecated\\\"\\n        ).text\\n        try:\\n            aux_dict_2[\\\"date\\\"] = match.find(\\\"time\\\").text\\n            aux_dict_2[\\\"pens\\\"] = False\\n            aux_dict_2[\\\"pens_home_score\\\"] = False\\n            aux_dict_2[\\\"pens_away_score\\\"] = False\\n        except:\\n            aux_dict_2[\\\"date\\\"] = False\\n            aux_dict_2[\\\"pens\\\"] = (\\n                match.find(\\n                    \\\"span\\\",\\n                    class_=\\\"title-8-medium simple-match-card__info-message simple-match-card__info-message--secondary\\\",\\n                ).text\\n                == \\\"(Pens)\\\"\\n            )\\n            home, away = get_penaltis(match)\\n            aux_dict_2[\\\"pens_home_score\\\"] = home\\n            aux_dict_2[\\\"pens_away_score\\\"] = away\\n\\n        aux_dict.append(aux_dict_2)\\n    return aux_dict\";\n",
       "                var nbb_formatted_code = \"def browser(url):\\n    option = webdriver.ChromeOptions()\\n    option.add_argument(\\\"headless\\\")\\n    driver = webdriver.Chrome(\\n        executable_path=\\\"/Users/admin/Git/web-scraping/OneFootbal/chromedriver\\\",\\n        options=option,\\n    )\\n    driver.get(url)\\n    return driver\\n\\n\\ndef get_html_full(url):\\n    driver = browser(url)\\n    el = driver.find_element_by_xpath(\\n        \\\"/html/body/of-root/main/of-competition-results-stream/section/of-entity-page-root/div/of-xpa-switch-entity-deprecated[7]/of-simple-match-cards-list-deprecated/div/button\\\"\\n    )\\n    el.click()\\n    time.sleep(5)\\n    page = driver.page_source\\n    driver.close()\\n    return BeautifulSoup(page)\\n\\n\\ndef get_html_full_match(url):\\n    driver = browser(url)\\n    el = driver.find_element_by_xpath(\\n        \\\"/html/body/of-root/main/of-competition-results-stream/section/of-entity-page-root/div/of-xpa-switch-entity-deprecated[7]/of-simple-match-cards-list-deprecated/div/button\\\"\\n    )\\n    el.click()\\n    time.sleep(5)\\n    page = driver.page_source\\n    driver.close()\\n    return BeautifulSoup(page)\\n\\n\\ndef get_html_from_a_match(url):\\n    driver = browser(url)\\n    el = driver.find_element_by_xpath(\\n        \\\"/html/body/of-root/main/of-match-stream-v2/section/of-xpa-layout-match/section[2]/of-xpa-switch-match/of-match-events/div/button\\\"\\n    )\\n    el.click()\\n    time.sleep(2)\\n    page = driver.page_source\\n    el = driver.find_element_by_xpath(\\n        \\\"/html/body/of-root/main/of-match-stream-v2/section/of-xpa-layout-match/section[3]/div[1]/div/of-xpa-switch-match/of-match-lineup-v2/section/nav/ul/li[2]/button\\\"\\n    )\\n    el.click()\\n    time.sleep(2)\\n    second_lineup = driver.page_source\\n    driver.close()\\n    return BeautifulSoup(page), BeautifulSoup(second_lineup)\\n\\n\\ndef format_field(string):\\n    string = str(string)\\n    string = string.lower()\\n    string = string.strip()\\n    string = string.replace(\\\"  \\\", \\\" \\\")\\n    string = string.replace(\\\" \\\", \\\"_\\\")\\n    return string\\n\\n\\ndef get_info_from_event(event):\\n    aux_event = {}\\n    aux_event[\\\"event_team\\\"] = event[\\\"class\\\"][-1][-4:]\\n    aux_event[\\\"event_time\\\"] = event.find(\\n        \\\"div\\\", class_=\\\"match-events__item-timeline\\\"\\n    ).text\\n\\n    if aux_event[\\\"event_time\\\"] == \\\" PK \\\":\\n        aux_event[\\\"event_time\\\"] = False\\n        aux_event[\\\"event_type\\\"] = \\\"PK\\\"\\n        aux_event[\\\"event_result\\\"] = event.find(\\\"img\\\", class_=\\\"of-image__img\\\")[\\\"alt\\\"]\\n        aux_event[\\\"event_player\\\"] = (\\n            event.find(\\\"div\\\", class_=\\\"match-events__text\\\").find(\\\"p\\\").text\\n        )\\n    else:\\n        try:\\n            aux_event[\\\"event_type\\\"] = event.find(class_=\\\"match-events__icon\\\")[\\n                \\\"aria-label\\\"\\n            ]\\n        except:\\n            aux_event[\\\"event_type\\\"] = event.find(\\\"img\\\", class_=\\\"of-image__img\\\")[\\\"alt\\\"]\\n        try:\\n            for i, text in enumerate(\\n                event.find(\\\"div\\\", class_=\\\"match-events__text\\\").find_all(\\\"p\\\")\\n            ):\\n                aux_event[\\\"action_player_\\\" + str(i + 1)] = text.text\\n        except:\\n            aux_event[\\\"action_player_1\\\"] = event.find(\\n                \\\"p\\\", class_=\\\"match-events__text\\\"\\n            ).text\\n\\n    return aux_event\\n\\n\\ndef get_info_from_match(page, second_lineup):\\n    aux_dict = {}\\n\\n    ## NAMES\\n    aux_dict[\\\"team_name_home\\\"] = page.find(\\n        \\\"span\\\", class_=\\\"match-score-team__name--home\\\"\\n    ).text\\n    aux_dict[\\\"team_name_away\\\"] = page.find(\\n        \\\"span\\\", class_=\\\"match-score-team__name--away\\\"\\n    ).text\\n\\n    ## GOAL\\n    scores = page.find(\\\"p\\\", class_=\\\"match-score-scores\\\").find_all(\\\"span\\\")\\n    aux_dict[\\\"team_home_score\\\"] = scores[0].text\\n    aux_dict[\\\"team_away_score\\\"] = scores[2].text\\n\\n    ## STATISTICS\\n    description = page.find_all(\\\"div\\\", class_=\\\"match-stats__stat-description\\\")\\n    for d in description:\\n        field = format_field(d.find_all(\\\"p\\\")[1].text)\\n        aux_dict[field + \\\"_home\\\"] = d.find_all(\\\"p\\\")[0].text\\n        aux_dict[field + \\\"_away\\\"] = d.find_all(\\\"p\\\")[2].text\\n\\n    ## PREDICTION\\n    predictions = page.find(\\\"ul\\\", class_=\\\"match-prediction__buttons\\\").find_all(\\\"li\\\")\\n    aux_dict[\\\"prediction_team_home_win\\\"] = predictions[0].text\\n    aux_dict[\\\"prediction_draw\\\"] = predictions[1].text\\n    aux_dict[\\\"prediction_team_away_win\\\"] = predictions[2].text\\n\\n    print(len(predictions))\\n\\n    ## LOCATION\\n    entries = page.find(\\\"ul\\\", class_=\\\"match-info__entries\\\").find_all(\\\"li\\\")\\n    aux_dict[\\\"location\\\"] = (\\n        entries[-1]\\n        .find(\\\"span\\\", class_=\\\"title-8-regular match-info__entry-subtitle\\\")\\n        .text\\n    )\\n\\n    ## EVENTS\\n    events = page.find(\\\"ul\\\", class_=\\\"match-events__list\\\").find_all(\\n        \\\"li\\\", class_=\\\"match-events__item\\\"\\n    )\\n    aux_dict[\\\"events_list\\\"] = [get_info_from_event(event) for event in events]\\n\\n    aux_dict[\\\"lineup_home\\\"] = get_lineups(page)\\n    aux_dict[\\\"lineup_away\\\"] = get_lineups(second_lineup)\\n\\n    return aux_dict\\n\\n\\ndef get_lineups(page):\\n    lineup = []\\n    for player in page.find_all(\\\"div\\\", class_=\\\"match-lineup-v2__player\\\"):\\n        player_info = player.find(\\n            \\\"p\\\", class_=\\\"match-lineup-v2__player-name\\\"\\n        ).text.split(\\\".\\\")\\n\\n        lineup.append(\\n            {\\n                \\\"player_name\\\": player_info[1],\\n                \\\"player_number\\\": player_info[0],\\n            }\\n        )\\n    return lineup\\n\\n\\ndef get_penaltis(match):\\n    regex_rule = r\\\"\\\\((\\\\d+)\\\\)\\\"\\n    aux = match.find_all(\\\"span\\\", class_=\\\"title-7-bold simple-match-card-team__score\\\")\\n    aux = [\\n        re.search(regex_rule, i.text)[0].replace(\\\"(\\\", \\\"\\\").replace(\\\")\\\", \\\"\\\") for i in aux\\n    ]\\n    return aux\\n\\n\\ndef get_all_matches(html_full):\\n    aux_dict = []\\n    for match in html_full.find_all(\\\"a\\\", class_=\\\"match-card\\\", href=True):\\n        aux_dict_2 = {}\\n        aux_dict_2[\\\"link\\\"] = \\\"https://onefootball.com\\\" + match[\\\"href\\\"]\\n        aux_dict_2[\\\"stage\\\"] = match.find_previous(\\n            \\\"p\\\", class_=\\\"label simple-match-cards-list__title-deprecated\\\"\\n        ).text\\n        try:\\n            aux_dict_2[\\\"date\\\"] = match.find(\\\"time\\\").text\\n            aux_dict_2[\\\"pens\\\"] = False\\n            aux_dict_2[\\\"pens_home_score\\\"] = False\\n            aux_dict_2[\\\"pens_away_score\\\"] = False\\n        except:\\n            aux_dict_2[\\\"date\\\"] = False\\n            aux_dict_2[\\\"pens\\\"] = (\\n                match.find(\\n                    \\\"span\\\",\\n                    class_=\\\"title-8-medium simple-match-card__info-message simple-match-card__info-message--secondary\\\",\\n                ).text\\n                == \\\"(Pens)\\\"\\n            )\\n            home, away = get_penaltis(match)\\n            aux_dict_2[\\\"pens_home_score\\\"] = home\\n            aux_dict_2[\\\"pens_away_score\\\"] = away\\n\\n        aux_dict.append(aux_dict_2)\\n    return aux_dict\";\n",
       "                var nbb_cells = Jupyter.notebook.get_cells();\n",
       "                for (var i = 0; i < nbb_cells.length; ++i) {\n",
       "                    if (nbb_cells[i].input_prompt_number == nbb_cell_id) {\n",
       "                        if (nbb_cells[i].get_text() == nbb_unformatted_code) {\n",
       "                             nbb_cells[i].set_text(nbb_formatted_code);\n",
       "                        }\n",
       "                        break;\n",
       "                    }\n",
       "                }\n",
       "            }, 500);\n",
       "            "
      ],
      "text/plain": [
       "<IPython.core.display.Javascript object>"
      ]
     },
     "metadata": {},
     "output_type": "display_data"
    }
   ],
   "source": [
    "def browser(url):\n",
    "    option = webdriver.ChromeOptions()\n",
    "    option.add_argument('headless')\n",
    "    driver = webdriver.Chrome(executable_path='/Users/admin/Git/web-scraping/OneFootbal/chromedriver',options=option)\n",
    "    driver.get(url)\n",
    "    return driver\n",
    "\n",
    "\n",
    "def get_html_full(url):\n",
    "    driver = browser(url)\n",
    "    el = driver.find_element_by_xpath(\n",
    "        \"/html/body/of-root/main/of-competition-results-stream/section/of-entity-page-root/div/of-xpa-switch-entity-deprecated[7]/of-simple-match-cards-list-deprecated/div/button\"\n",
    "    )\n",
    "    el.click()\n",
    "    time.sleep(5)\n",
    "    page = driver.page_source\n",
    "    driver.close()\n",
    "    return BeautifulSoup(page)\n",
    "\n",
    "\n",
    "def get_html_full_match(url):\n",
    "    driver = browser(url)\n",
    "    el = driver.find_element_by_xpath(\n",
    "        \"/html/body/of-root/main/of-competition-results-stream/section/of-entity-page-root/div/of-xpa-switch-entity-deprecated[7]/of-simple-match-cards-list-deprecated/div/button\"\n",
    "    )\n",
    "    el.click()\n",
    "    time.sleep(5)\n",
    "    page = driver.page_source\n",
    "    driver.close()\n",
    "    return BeautifulSoup(page)\n",
    "\n",
    "\n",
    "def get_html_from_a_match(url):\n",
    "    driver = browser(url)\n",
    "    el = driver.find_element_by_xpath(\n",
    "        \"/html/body/of-root/main/of-match-stream-v2/section/of-xpa-layout-match/section[2]/of-xpa-switch-match/of-match-events/div/button\"\n",
    "    )\n",
    "    el.click()\n",
    "    time.sleep(2)\n",
    "    page = driver.page_source\n",
    "    el = driver.find_element_by_xpath(\n",
    "        \"/html/body/of-root/main/of-match-stream-v2/section/of-xpa-layout-match/section[3]/div[1]/div/of-xpa-switch-match/of-match-lineup-v2/section/nav/ul/li[2]/button\"\n",
    "    )\n",
    "    el.click()\n",
    "    time.sleep(2)\n",
    "    second_lineup = driver.page_source\n",
    "    driver.close()\n",
    "    return BeautifulSoup(page), BeautifulSoup(second_lineup)\n",
    "\n",
    "\n",
    "\n",
    "def format_field(string):\n",
    "    string = str(string)\n",
    "    string = string.lower()\n",
    "    string = string.strip()\n",
    "    string = string.replace(\"  \", \" \")\n",
    "    string = string.replace(\" \", \"_\")\n",
    "    return string\n",
    "\n",
    "\n",
    "def get_info_from_event(event):\n",
    "    aux_event = {}\n",
    "    aux_event[\"event_team\"] = event[\"class\"][-1][-4:]\n",
    "    aux_event[\"event_time\"] = event.find(\n",
    "        \"div\", class_=\"match-events__item-timeline\"\n",
    "    ).text\n",
    "\n",
    "    if aux_event[\"event_time\"] == \" PK \":\n",
    "        aux_event[\"event_time\"] = False\n",
    "        aux_event[\"event_type\"] = \"PK\"\n",
    "        aux_event[\"event_result\"] = event.find(\"img\", class_=\"of-image__img\")[\"alt\"]\n",
    "        aux_event[\"event_player\"] = (\n",
    "            event.find(\"div\", class_=\"match-events__text\").find(\"p\").text\n",
    "        )\n",
    "    else:\n",
    "        try:\n",
    "            aux_event[\"event_type\"] = event.find(class_=\"match-events__icon\")[\n",
    "                \"aria-label\"\n",
    "            ]\n",
    "        except:\n",
    "            aux_event[\"event_type\"] = event.find(\"img\", class_=\"of-image__img\")[\"alt\"]\n",
    "        try:\n",
    "            for i, text in enumerate(\n",
    "                event.find(\"div\", class_=\"match-events__text\").find_all(\"p\")\n",
    "            ):\n",
    "                aux_event[\"action_player_\" + str(i + 1)] = text.text\n",
    "        except:\n",
    "            aux_event[\"action_player_1\"] = event.find(\n",
    "                \"p\", class_=\"match-events__text\"\n",
    "            ).text\n",
    "\n",
    "    return aux_event\n",
    "\n",
    "\n",
    "def get_info_from_match(page, second_lineup):\n",
    "    aux_dict = {}\n",
    "\n",
    "    ## NAMES\n",
    "    aux_dict[\"team_name_home\"] = page.find(\n",
    "        \"span\", class_=\"match-score-team__name--home\"\n",
    "    ).text\n",
    "    aux_dict[\"team_name_away\"] = page.find(\n",
    "        \"span\", class_=\"match-score-team__name--away\"\n",
    "    ).text\n",
    "\n",
    "    ## GOAL\n",
    "    scores = page.find(\"p\", class_=\"match-score-scores\").find_all(\"span\")\n",
    "    aux_dict[\"team_home_score\"] = scores[0].text\n",
    "    aux_dict[\"team_away_score\"] = scores[2].text\n",
    "\n",
    "    ## STATISTICS\n",
    "    description = page.find_all(\"div\", class_=\"match-stats__stat-description\")\n",
    "    for d in description:\n",
    "        field = format_field(d.find_all(\"p\")[1].text)\n",
    "        aux_dict[field + \"_home\"] = d.find_all(\"p\")[0].text\n",
    "        aux_dict[field + \"_away\"] = d.find_all(\"p\")[2].text\n",
    "        \n",
    "    ## PREDICTION\n",
    "    predictions = page.find('ul',class_='match-prediction__buttons').find_all('li')\n",
    "    aux_dict['prediction_team_home_win'] = predictions[0].text\n",
    "    aux_dict['prediction_draw'] = predictions[1].text\n",
    "    aux_dict['prediction_team_away_win'] = predictions[2].text\n",
    "\n",
    "    print(len(predictions))\n",
    "        \n",
    "    ## LOCATION\n",
    "    entries = page.find('ul',class_='match-info__entries').find_all('li')\n",
    "    aux_dict[\"location\"] = entries[-1].find('span', class_='title-8-regular match-info__entry-subtitle').text\n",
    "\n",
    "    ## EVENTS\n",
    "    events = page.find(\"ul\", class_=\"match-events__list\").find_all(\n",
    "        \"li\", class_=\"match-events__item\"\n",
    "    )\n",
    "    aux_dict[\"events_list\"] = [get_info_from_event(event) for event in events]\n",
    "\n",
    "    aux_dict[\"lineup_home\"] = get_lineups(page)\n",
    "    aux_dict[\"lineup_away\"] = get_lineups(second_lineup)\n",
    "\n",
    "    return aux_dict\n",
    "\n",
    "\n",
    "def get_lineups(page):\n",
    "    lineup = []\n",
    "    for player in page.find_all(\"div\", class_=\"match-lineup-v2__player\"):\n",
    "        player_info = player.find('p',class_='match-lineup-v2__player-name').text.split('.')\n",
    "        \n",
    "        lineup.append(\n",
    "            {\n",
    "                 \"player_name\": player_info[1],\n",
    "                \"player_number\": player_info[0],\n",
    "            }\n",
    "        )\n",
    "    return lineup\n",
    "\n",
    "\n",
    "\n",
    "def get_penaltis(match):\n",
    "    regex_rule = r\"\\((\\d+)\\)\"\n",
    "    aux = match.find_all(\n",
    "        \"span\", class_=\"title-7-bold simple-match-card-team__score\"\n",
    "    )\n",
    "    aux = [\n",
    "        re.search(regex_rule, i.text)[0].replace(\"(\", \"\").replace(\")\", \"\") for i in aux\n",
    "    ]\n",
    "    return aux\n",
    "\n",
    "\n",
    "def get_all_matches(html_full):\n",
    "    aux_dict = []\n",
    "    for match in html_full.find_all(\"a\", class_=\"match-card\", href=True):\n",
    "        aux_dict_2 = {}\n",
    "        aux_dict_2[\"link\"] = \"https://onefootball.com\" + match[\"href\"]\n",
    "        aux_dict_2[\"stage\"] = match.find_previous(\n",
    "            \"p\", class_=\"label simple-match-cards-list__title-deprecated\"\n",
    "        ).text\n",
    "        try:\n",
    "            aux_dict_2[\"date\"] = match.find(\"time\").text\n",
    "            aux_dict_2[\"pens\"] = False\n",
    "            aux_dict_2[\"pens_home_score\"] = False\n",
    "            aux_dict_2[\"pens_away_score\"] = False\n",
    "        except:\n",
    "            aux_dict_2[\"date\"] = False\n",
    "            aux_dict_2[\"pens\"] = (\n",
    "                match.find(\n",
    "                    \"span\",\n",
    "                    class_=\"title-8-medium simple-match-card__info-message simple-match-card__info-message--secondary\",\n",
    "                ).text\n",
    "                == \"(Pens)\"\n",
    "            )\n",
    "            home, away = get_penaltis(match)\n",
    "            aux_dict_2[\"pens_home_score\"] = home\n",
    "            aux_dict_2[\"pens_away_score\"] = away\n",
    "\n",
    "        aux_dict.append(aux_dict_2)\n",
    "    return aux_dict\n"
   ]
  },
  {
   "cell_type": "markdown",
   "metadata": {},
   "source": [
    "## Competition"
   ]
  },
  {
   "cell_type": "code",
   "execution_count": 10,
   "metadata": {
    "scrolled": false
   },
   "outputs": [
    {
     "data": {
      "text/plain": [
       "{'link': 'https://onefootball.com/en/match/2203217',\n",
       " 'stage': ' Final ',\n",
       " 'date': ' 29.05.2021 ',\n",
       " 'pens': False,\n",
       " 'pens_home_score': False,\n",
       " 'pens_away_score': False}"
      ]
     },
     "execution_count": 10,
     "metadata": {},
     "output_type": "execute_result"
    },
    {
     "data": {
      "application/javascript": [
       "\n",
       "            setTimeout(function() {\n",
       "                var nbb_cell_id = 10;\n",
       "                var nbb_unformatted_code = \"url = \\\"https://onefootball.com/en/competition/champions-league-5/results\\\"  ## Competition link\\npage = get_html_full(url)\\nmatchs = get_all_matches(page)\\nmatchs[0]\";\n",
       "                var nbb_formatted_code = \"url = \\\"https://onefootball.com/en/competition/champions-league-5/results\\\"  ## Competition link\\npage = get_html_full(url)\\nmatchs = get_all_matches(page)\\nmatchs[0]\";\n",
       "                var nbb_cells = Jupyter.notebook.get_cells();\n",
       "                for (var i = 0; i < nbb_cells.length; ++i) {\n",
       "                    if (nbb_cells[i].input_prompt_number == nbb_cell_id) {\n",
       "                        if (nbb_cells[i].get_text() == nbb_unformatted_code) {\n",
       "                             nbb_cells[i].set_text(nbb_formatted_code);\n",
       "                        }\n",
       "                        break;\n",
       "                    }\n",
       "                }\n",
       "            }, 500);\n",
       "            "
      ],
      "text/plain": [
       "<IPython.core.display.Javascript object>"
      ]
     },
     "metadata": {},
     "output_type": "display_data"
    }
   ],
   "source": [
    "url = \"https://onefootball.com/en/competition/champions-league-5/results\"  ## Competition link\n",
    "page = get_html_full(url)\n",
    "matchs = get_all_matches(page)\n",
    "matchs[0]"
   ]
  },
  {
   "cell_type": "code",
   "execution_count": 11,
   "metadata": {},
   "outputs": [
    {
     "name": "stderr",
     "output_type": "stream",
     "text": [
      "[Parallel(n_jobs=6)]: Using backend LokyBackend with 6 concurrent workers.\n",
      "[Parallel(n_jobs=6)]: Done   1 tasks      | elapsed:   27.2s\n",
      "[Parallel(n_jobs=6)]: Done   6 tasks      | elapsed:   39.1s\n",
      "[Parallel(n_jobs=6)]: Done  13 tasks      | elapsed:   59.7s\n",
      "[Parallel(n_jobs=6)]: Done  20 tasks      | elapsed:  1.4min\n",
      "[Parallel(n_jobs=6)]: Done  29 tasks      | elapsed:  1.9min\n"
     ]
    },
    {
     "ename": "NoSuchElementException",
     "evalue": "Message: no such element: Unable to locate element: {\"method\":\"xpath\",\"selector\":\"/html/body/of-root/main/of-match-stream-v2/section/of-xpa-layout-match/section[2]/of-xpa-switch-match/of-match-events/div/button\"}\n  (Session info: headless chrome=92.0.4515.131)\n",
     "output_type": "error",
     "traceback": [
      "\u001b[0;31m---------------------------------------------------------------------------\u001b[0m",
      "\u001b[0;31m_RemoteTraceback\u001b[0m                          Traceback (most recent call last)",
      "\u001b[0;31m_RemoteTraceback\u001b[0m: \n\"\"\"\nTraceback (most recent call last):\n  File \"/usr/local/lib/python3.9/site-packages/joblib/externals/loky/process_executor.py\", line 431, in _process_worker\n    r = call_item()\n  File \"/usr/local/lib/python3.9/site-packages/joblib/externals/loky/process_executor.py\", line 285, in __call__\n    return self.fn(*self.args, **self.kwargs)\n  File \"/usr/local/lib/python3.9/site-packages/joblib/_parallel_backends.py\", line 595, in __call__\n    return self.func(*args, **kwargs)\n  File \"/usr/local/lib/python3.9/site-packages/joblib/parallel.py\", line 262, in __call__\n    return [func(*args, **kwargs)\n  File \"/usr/local/lib/python3.9/site-packages/joblib/parallel.py\", line 262, in <listcomp>\n    return [func(*args, **kwargs)\n  File \"<timed exec>\", line 2, in merge_information\n  File \"<ipython-input-8-e618e90b3403>\", line 35, in get_html_from_a_match\n  File \"/usr/local/lib/python3.9/site-packages/selenium/webdriver/remote/webdriver.py\", line 394, in find_element_by_xpath\n    return self.find_element(by=By.XPATH, value=xpath)\n  File \"/usr/local/lib/python3.9/site-packages/selenium/webdriver/remote/webdriver.py\", line 976, in find_element\n    return self.execute(Command.FIND_ELEMENT, {\n  File \"/usr/local/lib/python3.9/site-packages/selenium/webdriver/remote/webdriver.py\", line 321, in execute\n    self.error_handler.check_response(response)\n  File \"/usr/local/lib/python3.9/site-packages/selenium/webdriver/remote/errorhandler.py\", line 242, in check_response\n    raise exception_class(message, screen, stacktrace)\nselenium.common.exceptions.NoSuchElementException: Message: no such element: Unable to locate element: {\"method\":\"xpath\",\"selector\":\"/html/body/of-root/main/of-match-stream-v2/section/of-xpa-layout-match/section[2]/of-xpa-switch-match/of-match-events/div/button\"}\n  (Session info: headless chrome=92.0.4515.131)\n\n\"\"\"",
      "\nThe above exception was the direct cause of the following exception:\n",
      "\u001b[0;31mNoSuchElementException\u001b[0m                    Traceback (most recent call last)",
      "\u001b[0;32m<timed exec>\u001b[0m in \u001b[0;36m<module>\u001b[0;34m\u001b[0m\n",
      "\u001b[0;32m/usr/local/lib/python3.9/site-packages/joblib/parallel.py\u001b[0m in \u001b[0;36m__call__\u001b[0;34m(self, iterable)\u001b[0m\n\u001b[1;32m   1052\u001b[0m \u001b[0;34m\u001b[0m\u001b[0m\n\u001b[1;32m   1053\u001b[0m             \u001b[0;32mwith\u001b[0m \u001b[0mself\u001b[0m\u001b[0;34m.\u001b[0m\u001b[0m_backend\u001b[0m\u001b[0;34m.\u001b[0m\u001b[0mretrieval_context\u001b[0m\u001b[0;34m(\u001b[0m\u001b[0;34m)\u001b[0m\u001b[0;34m:\u001b[0m\u001b[0;34m\u001b[0m\u001b[0;34m\u001b[0m\u001b[0m\n\u001b[0;32m-> 1054\u001b[0;31m                 \u001b[0mself\u001b[0m\u001b[0;34m.\u001b[0m\u001b[0mretrieve\u001b[0m\u001b[0;34m(\u001b[0m\u001b[0;34m)\u001b[0m\u001b[0;34m\u001b[0m\u001b[0;34m\u001b[0m\u001b[0m\n\u001b[0m\u001b[1;32m   1055\u001b[0m             \u001b[0;31m# Make sure that we get a last message telling us we are done\u001b[0m\u001b[0;34m\u001b[0m\u001b[0;34m\u001b[0m\u001b[0;34m\u001b[0m\u001b[0m\n\u001b[1;32m   1056\u001b[0m             \u001b[0melapsed_time\u001b[0m \u001b[0;34m=\u001b[0m \u001b[0mtime\u001b[0m\u001b[0;34m.\u001b[0m\u001b[0mtime\u001b[0m\u001b[0;34m(\u001b[0m\u001b[0;34m)\u001b[0m \u001b[0;34m-\u001b[0m \u001b[0mself\u001b[0m\u001b[0;34m.\u001b[0m\u001b[0m_start_time\u001b[0m\u001b[0;34m\u001b[0m\u001b[0;34m\u001b[0m\u001b[0m\n",
      "\u001b[0;32m/usr/local/lib/python3.9/site-packages/joblib/parallel.py\u001b[0m in \u001b[0;36mretrieve\u001b[0;34m(self)\u001b[0m\n\u001b[1;32m    931\u001b[0m             \u001b[0;32mtry\u001b[0m\u001b[0;34m:\u001b[0m\u001b[0;34m\u001b[0m\u001b[0;34m\u001b[0m\u001b[0m\n\u001b[1;32m    932\u001b[0m                 \u001b[0;32mif\u001b[0m \u001b[0mgetattr\u001b[0m\u001b[0;34m(\u001b[0m\u001b[0mself\u001b[0m\u001b[0;34m.\u001b[0m\u001b[0m_backend\u001b[0m\u001b[0;34m,\u001b[0m \u001b[0;34m'supports_timeout'\u001b[0m\u001b[0;34m,\u001b[0m \u001b[0;32mFalse\u001b[0m\u001b[0;34m)\u001b[0m\u001b[0;34m:\u001b[0m\u001b[0;34m\u001b[0m\u001b[0;34m\u001b[0m\u001b[0m\n\u001b[0;32m--> 933\u001b[0;31m                     \u001b[0mself\u001b[0m\u001b[0;34m.\u001b[0m\u001b[0m_output\u001b[0m\u001b[0;34m.\u001b[0m\u001b[0mextend\u001b[0m\u001b[0;34m(\u001b[0m\u001b[0mjob\u001b[0m\u001b[0;34m.\u001b[0m\u001b[0mget\u001b[0m\u001b[0;34m(\u001b[0m\u001b[0mtimeout\u001b[0m\u001b[0;34m=\u001b[0m\u001b[0mself\u001b[0m\u001b[0;34m.\u001b[0m\u001b[0mtimeout\u001b[0m\u001b[0;34m)\u001b[0m\u001b[0;34m)\u001b[0m\u001b[0;34m\u001b[0m\u001b[0;34m\u001b[0m\u001b[0m\n\u001b[0m\u001b[1;32m    934\u001b[0m                 \u001b[0;32melse\u001b[0m\u001b[0;34m:\u001b[0m\u001b[0;34m\u001b[0m\u001b[0;34m\u001b[0m\u001b[0m\n\u001b[1;32m    935\u001b[0m                     \u001b[0mself\u001b[0m\u001b[0;34m.\u001b[0m\u001b[0m_output\u001b[0m\u001b[0;34m.\u001b[0m\u001b[0mextend\u001b[0m\u001b[0;34m(\u001b[0m\u001b[0mjob\u001b[0m\u001b[0;34m.\u001b[0m\u001b[0mget\u001b[0m\u001b[0;34m(\u001b[0m\u001b[0;34m)\u001b[0m\u001b[0;34m)\u001b[0m\u001b[0;34m\u001b[0m\u001b[0;34m\u001b[0m\u001b[0m\n",
      "\u001b[0;32m/usr/local/lib/python3.9/site-packages/joblib/_parallel_backends.py\u001b[0m in \u001b[0;36mwrap_future_result\u001b[0;34m(future, timeout)\u001b[0m\n\u001b[1;32m    540\u001b[0m         AsyncResults.get from multiprocessing.\"\"\"\n\u001b[1;32m    541\u001b[0m         \u001b[0;32mtry\u001b[0m\u001b[0;34m:\u001b[0m\u001b[0;34m\u001b[0m\u001b[0;34m\u001b[0m\u001b[0m\n\u001b[0;32m--> 542\u001b[0;31m             \u001b[0;32mreturn\u001b[0m \u001b[0mfuture\u001b[0m\u001b[0;34m.\u001b[0m\u001b[0mresult\u001b[0m\u001b[0;34m(\u001b[0m\u001b[0mtimeout\u001b[0m\u001b[0;34m=\u001b[0m\u001b[0mtimeout\u001b[0m\u001b[0;34m)\u001b[0m\u001b[0;34m\u001b[0m\u001b[0;34m\u001b[0m\u001b[0m\n\u001b[0m\u001b[1;32m    543\u001b[0m         \u001b[0;32mexcept\u001b[0m \u001b[0mCfTimeoutError\u001b[0m \u001b[0;32mas\u001b[0m \u001b[0me\u001b[0m\u001b[0;34m:\u001b[0m\u001b[0;34m\u001b[0m\u001b[0;34m\u001b[0m\u001b[0m\n\u001b[1;32m    544\u001b[0m             \u001b[0;32mraise\u001b[0m \u001b[0mTimeoutError\u001b[0m \u001b[0;32mfrom\u001b[0m \u001b[0me\u001b[0m\u001b[0;34m\u001b[0m\u001b[0;34m\u001b[0m\u001b[0m\n",
      "\u001b[0;32m/usr/local/Cellar/python@3.9/3.9.0_4/Frameworks/Python.framework/Versions/3.9/lib/python3.9/concurrent/futures/_base.py\u001b[0m in \u001b[0;36mresult\u001b[0;34m(self, timeout)\u001b[0m\n\u001b[1;32m    431\u001b[0m                 \u001b[0;32mraise\u001b[0m \u001b[0mCancelledError\u001b[0m\u001b[0;34m(\u001b[0m\u001b[0;34m)\u001b[0m\u001b[0;34m\u001b[0m\u001b[0;34m\u001b[0m\u001b[0m\n\u001b[1;32m    432\u001b[0m             \u001b[0;32melif\u001b[0m \u001b[0mself\u001b[0m\u001b[0;34m.\u001b[0m\u001b[0m_state\u001b[0m \u001b[0;34m==\u001b[0m \u001b[0mFINISHED\u001b[0m\u001b[0;34m:\u001b[0m\u001b[0;34m\u001b[0m\u001b[0;34m\u001b[0m\u001b[0m\n\u001b[0;32m--> 433\u001b[0;31m                 \u001b[0;32mreturn\u001b[0m \u001b[0mself\u001b[0m\u001b[0;34m.\u001b[0m\u001b[0m__get_result\u001b[0m\u001b[0;34m(\u001b[0m\u001b[0;34m)\u001b[0m\u001b[0;34m\u001b[0m\u001b[0;34m\u001b[0m\u001b[0m\n\u001b[0m\u001b[1;32m    434\u001b[0m \u001b[0;34m\u001b[0m\u001b[0m\n\u001b[1;32m    435\u001b[0m             \u001b[0mself\u001b[0m\u001b[0;34m.\u001b[0m\u001b[0m_condition\u001b[0m\u001b[0;34m.\u001b[0m\u001b[0mwait\u001b[0m\u001b[0;34m(\u001b[0m\u001b[0mtimeout\u001b[0m\u001b[0;34m)\u001b[0m\u001b[0;34m\u001b[0m\u001b[0;34m\u001b[0m\u001b[0m\n",
      "\u001b[0;32m/usr/local/Cellar/python@3.9/3.9.0_4/Frameworks/Python.framework/Versions/3.9/lib/python3.9/concurrent/futures/_base.py\u001b[0m in \u001b[0;36m__get_result\u001b[0;34m(self)\u001b[0m\n\u001b[1;32m    387\u001b[0m     \u001b[0;32mdef\u001b[0m \u001b[0m__get_result\u001b[0m\u001b[0;34m(\u001b[0m\u001b[0mself\u001b[0m\u001b[0;34m)\u001b[0m\u001b[0;34m:\u001b[0m\u001b[0;34m\u001b[0m\u001b[0;34m\u001b[0m\u001b[0m\n\u001b[1;32m    388\u001b[0m         \u001b[0;32mif\u001b[0m \u001b[0mself\u001b[0m\u001b[0;34m.\u001b[0m\u001b[0m_exception\u001b[0m\u001b[0;34m:\u001b[0m\u001b[0;34m\u001b[0m\u001b[0;34m\u001b[0m\u001b[0m\n\u001b[0;32m--> 389\u001b[0;31m             \u001b[0;32mraise\u001b[0m \u001b[0mself\u001b[0m\u001b[0;34m.\u001b[0m\u001b[0m_exception\u001b[0m\u001b[0;34m\u001b[0m\u001b[0;34m\u001b[0m\u001b[0m\n\u001b[0m\u001b[1;32m    390\u001b[0m         \u001b[0;32melse\u001b[0m\u001b[0;34m:\u001b[0m\u001b[0;34m\u001b[0m\u001b[0;34m\u001b[0m\u001b[0m\n\u001b[1;32m    391\u001b[0m             \u001b[0;32mreturn\u001b[0m \u001b[0mself\u001b[0m\u001b[0;34m.\u001b[0m\u001b[0m_result\u001b[0m\u001b[0;34m\u001b[0m\u001b[0;34m\u001b[0m\u001b[0m\n",
      "\u001b[0;31mNoSuchElementException\u001b[0m: Message: no such element: Unable to locate element: {\"method\":\"xpath\",\"selector\":\"/html/body/of-root/main/of-match-stream-v2/section/of-xpa-layout-match/section[2]/of-xpa-switch-match/of-match-events/div/button\"}\n  (Session info: headless chrome=92.0.4515.131)\n"
     ]
    },
    {
     "data": {
      "application/javascript": [
       "\n",
       "            setTimeout(function() {\n",
       "                var nbb_cell_id = 11;\n",
       "                var nbb_unformatted_code = \"%%time\\n\\ndef merge_information(match):\\n    match_info = get_info_from_match(*get_html_from_a_match(match[\\\"link\\\"]))\\n    return{**match, **match_info}\\n    \\nfrom joblib import Parallel, delayed\\naux_list = Parallel(n_jobs=6, verbose=10)(delayed(merge_information)(match) for match in matchs)\";\n",
       "                var nbb_formatted_code = \"%%time\\n\\ndef merge_information(match):\\n    match_info = get_info_from_match(*get_html_from_a_match(match[\\\"link\\\"]))\\n    return{**match, **match_info}\\n    \\nfrom joblib import Parallel, delayed\\naux_list = Parallel(n_jobs=6, verbose=10)(delayed(merge_information)(match) for match in matchs)\";\n",
       "                var nbb_cells = Jupyter.notebook.get_cells();\n",
       "                for (var i = 0; i < nbb_cells.length; ++i) {\n",
       "                    if (nbb_cells[i].input_prompt_number == nbb_cell_id) {\n",
       "                        if (nbb_cells[i].get_text() == nbb_unformatted_code) {\n",
       "                             nbb_cells[i].set_text(nbb_formatted_code);\n",
       "                        }\n",
       "                        break;\n",
       "                    }\n",
       "                }\n",
       "            }, 500);\n",
       "            "
      ],
      "text/plain": [
       "<IPython.core.display.Javascript object>"
      ]
     },
     "metadata": {},
     "output_type": "display_data"
    }
   ],
   "source": [
    "%%time\n",
    "\n",
    "def merge_information(match):\n",
    "    match_info = get_info_from_match(*get_html_from_a_match(match[\"link\"]))\n",
    "    return{**match, **match_info}\n",
    "    \n",
    "from joblib import Parallel, delayed\n",
    "aux_list = Parallel(n_jobs=6, verbose=10)(delayed(merge_information)(match) for match in matchs)"
   ]
  },
  {
   "cell_type": "code",
   "execution_count": 12,
   "metadata": {},
   "outputs": [
    {
     "ename": "NameError",
     "evalue": "name 'aux_list' is not defined",
     "output_type": "error",
     "traceback": [
      "\u001b[0;31m---------------------------------------------------------------------------\u001b[0m",
      "\u001b[0;31mNameError\u001b[0m                                 Traceback (most recent call last)",
      "\u001b[0;32m<ipython-input-12-bbd7a694cc34>\u001b[0m in \u001b[0;36m<module>\u001b[0;34m\u001b[0m\n\u001b[0;32m----> 1\u001b[0;31m \u001b[0mdf\u001b[0m \u001b[0;34m=\u001b[0m \u001b[0mpd\u001b[0m\u001b[0;34m.\u001b[0m\u001b[0mDataFrame\u001b[0m\u001b[0;34m(\u001b[0m\u001b[0maux_list\u001b[0m\u001b[0;34m)\u001b[0m\u001b[0;34m.\u001b[0m\u001b[0mdrop\u001b[0m\u001b[0;34m(\u001b[0m\u001b[0;34m\"link\"\u001b[0m\u001b[0;34m,\u001b[0m \u001b[0maxis\u001b[0m\u001b[0;34m=\u001b[0m\u001b[0;36m1\u001b[0m\u001b[0;34m)\u001b[0m\u001b[0;34m\u001b[0m\u001b[0;34m\u001b[0m\u001b[0m\n\u001b[0m\u001b[1;32m      2\u001b[0m \u001b[0mdf\u001b[0m\u001b[0;34m.\u001b[0m\u001b[0mshape\u001b[0m\u001b[0;34m\u001b[0m\u001b[0;34m\u001b[0m\u001b[0m\n",
      "\u001b[0;31mNameError\u001b[0m: name 'aux_list' is not defined"
     ]
    },
    {
     "data": {
      "application/javascript": [
       "\n",
       "            setTimeout(function() {\n",
       "                var nbb_cell_id = 12;\n",
       "                var nbb_unformatted_code = \"df = pd.DataFrame(aux_list).drop(\\\"link\\\", axis=1)\\ndf.shape\";\n",
       "                var nbb_formatted_code = \"df = pd.DataFrame(aux_list).drop(\\\"link\\\", axis=1)\\ndf.shape\";\n",
       "                var nbb_cells = Jupyter.notebook.get_cells();\n",
       "                for (var i = 0; i < nbb_cells.length; ++i) {\n",
       "                    if (nbb_cells[i].input_prompt_number == nbb_cell_id) {\n",
       "                        if (nbb_cells[i].get_text() == nbb_unformatted_code) {\n",
       "                             nbb_cells[i].set_text(nbb_formatted_code);\n",
       "                        }\n",
       "                        break;\n",
       "                    }\n",
       "                }\n",
       "            }, 500);\n",
       "            "
      ],
      "text/plain": [
       "<IPython.core.display.Javascript object>"
      ]
     },
     "metadata": {},
     "output_type": "display_data"
    }
   ],
   "source": [
    "df = pd.DataFrame(aux_list).drop(\"link\", axis=1)\n",
    "df.shape"
   ]
  },
  {
   "cell_type": "markdown",
   "metadata": {},
   "source": [
    "## Manual adjustment"
   ]
  },
  {
   "cell_type": "code",
   "execution_count": null,
   "metadata": {},
   "outputs": [],
   "source": [
    "df[df.date == False]"
   ]
  },
  {
   "cell_type": "code",
   "execution_count": null,
   "metadata": {},
   "outputs": [],
   "source": [
    "df"
   ]
  },
  {
   "cell_type": "code",
   "execution_count": null,
   "metadata": {},
   "outputs": [],
   "source": [
    "df.to_csv(\"champions_league_2020-2021_results.csv\", index=False)"
   ]
  }
 ],
 "metadata": {
  "kernelspec": {
   "display_name": "Python 3",
   "language": "python",
   "name": "python3"
  },
  "language_info": {
   "codemirror_mode": {
    "name": "ipython",
    "version": 3
   },
   "file_extension": ".py",
   "mimetype": "text/x-python",
   "name": "python",
   "nbconvert_exporter": "python",
   "pygments_lexer": "ipython3",
   "version": "3.9.0"
  }
 },
 "nbformat": 4,
 "nbformat_minor": 4
}
